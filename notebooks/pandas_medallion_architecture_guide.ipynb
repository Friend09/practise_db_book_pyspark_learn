{
  "cells": [
    {
      "cell_type": "markdown",
      "metadata": {
        "vscode": {
          "languageId": "raw"
        }
      },
      "source": [
        "# Pandas Medallion Architecture Learning Guide\n",
        "\n",
        "Welcome to your Pandas learning repository! This notebook will guide you through the core concepts of data processing using pandas, focusing on the Medallion Architecture (Bronze, Silver, Gold layers). You'll learn how to ingest raw data, transform it, and aggregate it for analytical purposes using pandas - a great foundation before moving to distributed processing with PySpark.\n",
        "\n",
        "## What is the Medallion Architecture?\n",
        "\n",
        "The Medallion Architecture is a data design pattern used to logically organize data in a data lake:\n",
        "- **Bronze Layer**: Raw data as-is from source systems\n",
        "- **Silver Layer**: Cleaned, validated, and enriched data\n",
        "- **Gold Layer**: Business-level aggregations for analytics and reporting\n"
      ]
    },
    {
      "cell_type": "markdown",
      "metadata": {
        "vscode": {
          "languageId": "raw"
        }
      },
      "source": [
        "## 1. Setting up your pandas environment\n",
        "\n",
        "Let's start by importing the necessary libraries and checking our environment.\n",
        "\n",
        "**Exercise 1.1**: Import pandas and other necessary libraries.\n"
      ]
    },
    {
      "cell_type": "code",
      "execution_count": 7,
      "metadata": {},
      "outputs": [
        {
          "name": "stdout",
          "output_type": "stream",
          "text": [
            "Pandas version: 2.3.1\n",
            "NumPy version: 2.3.1\n",
            "Current working directory: /Users/vamsi_mbmax/Developer/VAM_Documents/01_vam_PROJECTS/LEARNING/proj_Databases/dev_proj_Databases/practise_db_book_pyspark_learn/notebooks\n"
          ]
        }
      ],
      "source": [
        "import pandas as pd\n",
        "import numpy as np\n",
        "import os\n",
        "from datetime import datetime\n",
        "import warnings\n",
        "warnings.filterwarnings('ignore')\n",
        "\n",
        "print(f\"Pandas version: {pd.__version__}\")\n",
        "print(f\"NumPy version: {np.__version__}\")\n",
        "print(f\"Current working directory: {os.getcwd()}\")"
      ]
    },
    {
      "cell_type": "markdown",
      "metadata": {
        "vscode": {
          "languageId": "raw"
        }
      },
      "source": [
        "## 2. Bronze Layer: Raw Data Ingestion\n",
        "\n",
        "The Bronze layer is where raw data is ingested as-is from source systems. We'll read the sample sales data from `data/raw/sales_data.csv` and save it to the bronze layer.\n",
        "\n",
        "**Exercise 2.1**: Read the raw CSV file and explore its structure.\n"
      ]
    },
    {
      "cell_type": "code",
      "execution_count": 8,
      "metadata": {},
      "outputs": [
        {
          "name": "stdout",
          "output_type": "stream",
          "text": [
            "Bronze Layer (Raw Data) Schema:\n",
            "transaction_id        int64\n",
            "product_name         object\n",
            "customer_name        object\n",
            "city                 object\n",
            "quantity              int64\n",
            "price               float64\n",
            "transaction_date     object\n",
            "dtype: object\n",
            "\n",
            "Dataset shape: (1000, 7)\n",
            "Total records: 1000\n",
            "\n",
            "First 5 rows:\n"
          ]
        },
        {
          "data": {
            "text/html": [
              "<div>\n",
              "<style scoped>\n",
              "    .dataframe tbody tr th:only-of-type {\n",
              "        vertical-align: middle;\n",
              "    }\n",
              "\n",
              "    .dataframe tbody tr th {\n",
              "        vertical-align: top;\n",
              "    }\n",
              "\n",
              "    .dataframe thead th {\n",
              "        text-align: right;\n",
              "    }\n",
              "</style>\n",
              "<table border=\"1\" class=\"dataframe\">\n",
              "  <thead>\n",
              "    <tr style=\"text-align: right;\">\n",
              "      <th></th>\n",
              "      <th>transaction_id</th>\n",
              "      <th>product_name</th>\n",
              "      <th>customer_name</th>\n",
              "      <th>city</th>\n",
              "      <th>quantity</th>\n",
              "      <th>price</th>\n",
              "      <th>transaction_date</th>\n",
              "    </tr>\n",
              "  </thead>\n",
              "  <tbody>\n",
              "    <tr>\n",
              "      <th>0</th>\n",
              "      <td>1</td>\n",
              "      <td>Keyboard</td>\n",
              "      <td>Customer_49</td>\n",
              "      <td>New York</td>\n",
              "      <td>4</td>\n",
              "      <td>678.03</td>\n",
              "      <td>2024-06-30</td>\n",
              "    </tr>\n",
              "    <tr>\n",
              "      <th>1</th>\n",
              "      <td>2</td>\n",
              "      <td>Laptop</td>\n",
              "      <td>Customer_37</td>\n",
              "      <td>Los Angeles</td>\n",
              "      <td>3</td>\n",
              "      <td>637.83</td>\n",
              "      <td>2024-07-05</td>\n",
              "    </tr>\n",
              "    <tr>\n",
              "      <th>2</th>\n",
              "      <td>3</td>\n",
              "      <td>Laptop</td>\n",
              "      <td>Customer_40</td>\n",
              "      <td>Houston</td>\n",
              "      <td>2</td>\n",
              "      <td>665.58</td>\n",
              "      <td>2024-10-21</td>\n",
              "    </tr>\n",
              "    <tr>\n",
              "      <th>3</th>\n",
              "      <td>4</td>\n",
              "      <td>Headphones</td>\n",
              "      <td>Customer_3</td>\n",
              "      <td>Los Angeles</td>\n",
              "      <td>4</td>\n",
              "      <td>222.11</td>\n",
              "      <td>2024-11-20</td>\n",
              "    </tr>\n",
              "    <tr>\n",
              "      <th>4</th>\n",
              "      <td>5</td>\n",
              "      <td>Mouse</td>\n",
              "      <td>Customer_10</td>\n",
              "      <td>Los Angeles</td>\n",
              "      <td>3</td>\n",
              "      <td>87.20</td>\n",
              "      <td>2024-07-25</td>\n",
              "    </tr>\n",
              "  </tbody>\n",
              "</table>\n",
              "</div>"
            ],
            "text/plain": [
              "   transaction_id product_name customer_name         city  quantity   price  \\\n",
              "0               1     Keyboard   Customer_49     New York         4  678.03   \n",
              "1               2       Laptop   Customer_37  Los Angeles         3  637.83   \n",
              "2               3       Laptop   Customer_40      Houston         2  665.58   \n",
              "3               4   Headphones    Customer_3  Los Angeles         4  222.11   \n",
              "4               5        Mouse   Customer_10  Los Angeles         3   87.20   \n",
              "\n",
              "  transaction_date  \n",
              "0       2024-06-30  \n",
              "1       2024-07-05  \n",
              "2       2024-10-21  \n",
              "3       2024-11-20  \n",
              "4       2024-07-25  "
            ]
          },
          "metadata": {},
          "output_type": "display_data"
        },
        {
          "name": "stdout",
          "output_type": "stream",
          "text": [
            "\n",
            "Basic statistics:\n"
          ]
        },
        {
          "data": {
            "text/html": [
              "<div>\n",
              "<style scoped>\n",
              "    .dataframe tbody tr th:only-of-type {\n",
              "        vertical-align: middle;\n",
              "    }\n",
              "\n",
              "    .dataframe tbody tr th {\n",
              "        vertical-align: top;\n",
              "    }\n",
              "\n",
              "    .dataframe thead th {\n",
              "        text-align: right;\n",
              "    }\n",
              "</style>\n",
              "<table border=\"1\" class=\"dataframe\">\n",
              "  <thead>\n",
              "    <tr style=\"text-align: right;\">\n",
              "      <th></th>\n",
              "      <th>transaction_id</th>\n",
              "      <th>quantity</th>\n",
              "      <th>price</th>\n",
              "    </tr>\n",
              "  </thead>\n",
              "  <tbody>\n",
              "    <tr>\n",
              "      <th>count</th>\n",
              "      <td>1000.000000</td>\n",
              "      <td>1000.000000</td>\n",
              "      <td>1000.000000</td>\n",
              "    </tr>\n",
              "    <tr>\n",
              "      <th>mean</th>\n",
              "      <td>500.500000</td>\n",
              "      <td>2.508000</td>\n",
              "      <td>495.977220</td>\n",
              "    </tr>\n",
              "    <tr>\n",
              "      <th>std</th>\n",
              "      <td>288.819436</td>\n",
              "      <td>1.131024</td>\n",
              "      <td>281.025972</td>\n",
              "    </tr>\n",
              "    <tr>\n",
              "      <th>min</th>\n",
              "      <td>1.000000</td>\n",
              "      <td>1.000000</td>\n",
              "      <td>11.160000</td>\n",
              "    </tr>\n",
              "    <tr>\n",
              "      <th>25%</th>\n",
              "      <td>250.750000</td>\n",
              "      <td>1.000000</td>\n",
              "      <td>259.810000</td>\n",
              "    </tr>\n",
              "    <tr>\n",
              "      <th>50%</th>\n",
              "      <td>500.500000</td>\n",
              "      <td>3.000000</td>\n",
              "      <td>489.015000</td>\n",
              "    </tr>\n",
              "    <tr>\n",
              "      <th>75%</th>\n",
              "      <td>750.250000</td>\n",
              "      <td>4.000000</td>\n",
              "      <td>742.457500</td>\n",
              "    </tr>\n",
              "    <tr>\n",
              "      <th>max</th>\n",
              "      <td>1000.000000</td>\n",
              "      <td>4.000000</td>\n",
              "      <td>999.910000</td>\n",
              "    </tr>\n",
              "  </tbody>\n",
              "</table>\n",
              "</div>"
            ],
            "text/plain": [
              "       transaction_id     quantity        price\n",
              "count     1000.000000  1000.000000  1000.000000\n",
              "mean       500.500000     2.508000   495.977220\n",
              "std        288.819436     1.131024   281.025972\n",
              "min          1.000000     1.000000    11.160000\n",
              "25%        250.750000     1.000000   259.810000\n",
              "50%        500.500000     3.000000   489.015000\n",
              "75%        750.250000     4.000000   742.457500\n",
              "max       1000.000000     4.000000   999.910000"
            ]
          },
          "metadata": {},
          "output_type": "display_data"
        }
      ],
      "source": [
        "# Read raw data from CSV\n",
        "bronze_df = pd.read_csv('../data/raw/sales_data.csv')\n",
        "\n",
        "print(\"Bronze Layer (Raw Data) Schema:\")\n",
        "print(bronze_df.dtypes)\n",
        "print(f\"\\nDataset shape: {bronze_df.shape}\")\n",
        "print(f\"Total records: {len(bronze_df)}\")\n",
        "\n",
        "print(\"\\nFirst 5 rows:\")\n",
        "display(bronze_df.head())\n",
        "\n",
        "print(\"\\nBasic statistics:\")\n",
        "display(bronze_df.describe())\n"
      ]
    },
    {
      "cell_type": "markdown",
      "metadata": {
        "vscode": {
          "languageId": "raw"
        }
      },
      "source": [
        "**Exercise 2.2**: Save the bronze layer data to parquet format for better performance.\n"
      ]
    },
    {
      "cell_type": "code",
      "execution_count": 9,
      "metadata": {},
      "outputs": [
        {
          "name": "stdout",
          "output_type": "stream",
          "text": [
            "✅ Bronze layer data saved to '../data/bronze/sales.parquet'\n",
            "File size: 20922 bytes\n"
          ]
        }
      ],
      "source": [
        "# Create bronze directory if it doesn't exist\n",
        "os.makedirs('../data/bronze', exist_ok=True)\n",
        "\n",
        "# Save bronze data as parquet (more efficient than CSV)\n",
        "bronze_df.to_parquet('../data/bronze/sales.parquet', index=False, engine=\"pyarrow\")\n",
        "\n",
        "print(\"✅ Bronze layer data saved to '../data/bronze/sales.parquet'\")\n",
        "print(f\"File size: {os.path.getsize('../data/bronze/sales.parquet')} bytes\")\n"
      ]
    },
    {
      "cell_type": "markdown",
      "metadata": {
        "vscode": {
          "languageId": "raw"
        }
      },
      "source": [
        "## 3. Silver Layer: Cleaned and Conformed Data\n",
        "\n",
        "The Silver layer contains cleaned, conformed, and enriched data. We'll perform data quality checks, calculate derived columns, and add metadata.\n",
        "\n",
        "**Exercise 3.1**: Load bronze data and perform data quality checks.\n"
      ]
    },
    {
      "cell_type": "code",
      "execution_count": 10,
      "metadata": {},
      "outputs": [
        {
          "name": "stdout",
          "output_type": "stream",
          "text": [
            "Data Quality Checks:\n",
            "Missing values:\n",
            "transaction_id      0\n",
            "product_name        0\n",
            "customer_name       0\n",
            "city                0\n",
            "quantity            0\n",
            "price               0\n",
            "transaction_date    0\n",
            "dtype: int64\n",
            "\n",
            "Duplicate rows: 0\n",
            "\n",
            "Unique values:\n",
            "  transaction_id: 1000\n",
            "  product_name: 6\n",
            "  customer_name: 50\n",
            "  city: 5\n",
            "  quantity: 4\n",
            "  price: 997\n",
            "  transaction_date: 347\n"
          ]
        }
      ],
      "source": [
        "# Load bronze data\n",
        "bronze_df = pd.read_parquet('../data/bronze/sales.parquet')\n",
        "\n",
        "print(\"Data Quality Checks:\")\n",
        "print(f\"Missing values:\\n{bronze_df.isnull().sum()}\")\n",
        "print(f\"\\nDuplicate rows: {bronze_df.duplicated().sum()}\")\n",
        "print(f\"\\nUnique values:\")\n",
        "for col in bronze_df.columns:\n",
        "    print(f\"  {col}: {bronze_df[col].nunique()}\")\n"
      ]
    },
    {
      "cell_type": "markdown",
      "metadata": {
        "vscode": {
          "languageId": "raw"
        }
      },
      "source": [
        "**Exercise 3.2**: Create the silver layer with enrichments and transformations.\n"
      ]
    },
    {
      "cell_type": "code",
      "execution_count": 16,
      "metadata": {},
      "outputs": [
        {
          "name": "stdout",
          "output_type": "stream",
          "text": [
            "Silver Layer (Cleaned/Enriched) Schema:\n",
            "transaction_id                   int64\n",
            "product_name                    object\n",
            "customer_name                   object\n",
            "city                            object\n",
            "quantity                         int64\n",
            "price                          float64\n",
            "transaction_date        datetime64[ns]\n",
            "total_price                    float64\n",
            "processing_timestamp    datetime64[us]\n",
            "data_source                     object\n",
            "year                             int32\n",
            "month                            int32\n",
            "quarter                          int32\n",
            "day_of_week                     object\n",
            "price_category                category\n",
            "order_size                    category\n",
            "dtype: object\n",
            "\n",
            "Dataset shape: (1000, 16)\n",
            "\n",
            "Sample enriched data:\n"
          ]
        },
        {
          "data": {
            "text/html": [
              "<div>\n",
              "<style scoped>\n",
              "    .dataframe tbody tr th:only-of-type {\n",
              "        vertical-align: middle;\n",
              "    }\n",
              "\n",
              "    .dataframe tbody tr th {\n",
              "        vertical-align: top;\n",
              "    }\n",
              "\n",
              "    .dataframe thead th {\n",
              "        text-align: right;\n",
              "    }\n",
              "</style>\n",
              "<table border=\"1\" class=\"dataframe\">\n",
              "  <thead>\n",
              "    <tr style=\"text-align: right;\">\n",
              "      <th></th>\n",
              "      <th>transaction_id</th>\n",
              "      <th>product_name</th>\n",
              "      <th>customer_name</th>\n",
              "      <th>city</th>\n",
              "      <th>quantity</th>\n",
              "      <th>price</th>\n",
              "      <th>transaction_date</th>\n",
              "      <th>total_price</th>\n",
              "      <th>processing_timestamp</th>\n",
              "      <th>data_source</th>\n",
              "      <th>year</th>\n",
              "      <th>month</th>\n",
              "      <th>quarter</th>\n",
              "      <th>day_of_week</th>\n",
              "      <th>price_category</th>\n",
              "      <th>order_size</th>\n",
              "    </tr>\n",
              "  </thead>\n",
              "  <tbody>\n",
              "    <tr>\n",
              "      <th>0</th>\n",
              "      <td>1</td>\n",
              "      <td>Keyboard</td>\n",
              "      <td>Customer_49</td>\n",
              "      <td>New York</td>\n",
              "      <td>4</td>\n",
              "      <td>678.03</td>\n",
              "      <td>2024-06-30</td>\n",
              "      <td>2712.12</td>\n",
              "      <td>2025-07-17 14:55:48.298087</td>\n",
              "      <td>sales_csv</td>\n",
              "      <td>2024</td>\n",
              "      <td>6</td>\n",
              "      <td>2</td>\n",
              "      <td>Sunday</td>\n",
              "      <td>High</td>\n",
              "      <td>Medium</td>\n",
              "    </tr>\n",
              "    <tr>\n",
              "      <th>1</th>\n",
              "      <td>2</td>\n",
              "      <td>Laptop</td>\n",
              "      <td>Customer_37</td>\n",
              "      <td>Los Angeles</td>\n",
              "      <td>3</td>\n",
              "      <td>637.83</td>\n",
              "      <td>2024-07-05</td>\n",
              "      <td>1913.49</td>\n",
              "      <td>2025-07-17 14:55:48.298087</td>\n",
              "      <td>sales_csv</td>\n",
              "      <td>2024</td>\n",
              "      <td>7</td>\n",
              "      <td>3</td>\n",
              "      <td>Friday</td>\n",
              "      <td>High</td>\n",
              "      <td>Small</td>\n",
              "    </tr>\n",
              "    <tr>\n",
              "      <th>2</th>\n",
              "      <td>3</td>\n",
              "      <td>Laptop</td>\n",
              "      <td>Customer_40</td>\n",
              "      <td>Houston</td>\n",
              "      <td>2</td>\n",
              "      <td>665.58</td>\n",
              "      <td>2024-10-21</td>\n",
              "      <td>1331.16</td>\n",
              "      <td>2025-07-17 14:55:48.298087</td>\n",
              "      <td>sales_csv</td>\n",
              "      <td>2024</td>\n",
              "      <td>10</td>\n",
              "      <td>4</td>\n",
              "      <td>Monday</td>\n",
              "      <td>High</td>\n",
              "      <td>Small</td>\n",
              "    </tr>\n",
              "    <tr>\n",
              "      <th>3</th>\n",
              "      <td>4</td>\n",
              "      <td>Headphones</td>\n",
              "      <td>Customer_3</td>\n",
              "      <td>Los Angeles</td>\n",
              "      <td>4</td>\n",
              "      <td>222.11</td>\n",
              "      <td>2024-11-20</td>\n",
              "      <td>888.44</td>\n",
              "      <td>2025-07-17 14:55:48.298087</td>\n",
              "      <td>sales_csv</td>\n",
              "      <td>2024</td>\n",
              "      <td>11</td>\n",
              "      <td>4</td>\n",
              "      <td>Wednesday</td>\n",
              "      <td>Medium</td>\n",
              "      <td>Medium</td>\n",
              "    </tr>\n",
              "    <tr>\n",
              "      <th>4</th>\n",
              "      <td>5</td>\n",
              "      <td>Mouse</td>\n",
              "      <td>Customer_10</td>\n",
              "      <td>Los Angeles</td>\n",
              "      <td>3</td>\n",
              "      <td>87.20</td>\n",
              "      <td>2024-07-25</td>\n",
              "      <td>261.60</td>\n",
              "      <td>2025-07-17 14:55:48.298087</td>\n",
              "      <td>sales_csv</td>\n",
              "      <td>2024</td>\n",
              "      <td>7</td>\n",
              "      <td>3</td>\n",
              "      <td>Thursday</td>\n",
              "      <td>Low</td>\n",
              "      <td>Small</td>\n",
              "    </tr>\n",
              "  </tbody>\n",
              "</table>\n",
              "</div>"
            ],
            "text/plain": [
              "   transaction_id product_name customer_name         city  quantity   price  \\\n",
              "0               1     Keyboard   Customer_49     New York         4  678.03   \n",
              "1               2       Laptop   Customer_37  Los Angeles         3  637.83   \n",
              "2               3       Laptop   Customer_40      Houston         2  665.58   \n",
              "3               4   Headphones    Customer_3  Los Angeles         4  222.11   \n",
              "4               5        Mouse   Customer_10  Los Angeles         3   87.20   \n",
              "\n",
              "  transaction_date  total_price       processing_timestamp data_source  year  \\\n",
              "0       2024-06-30      2712.12 2025-07-17 14:55:48.298087   sales_csv  2024   \n",
              "1       2024-07-05      1913.49 2025-07-17 14:55:48.298087   sales_csv  2024   \n",
              "2       2024-10-21      1331.16 2025-07-17 14:55:48.298087   sales_csv  2024   \n",
              "3       2024-11-20       888.44 2025-07-17 14:55:48.298087   sales_csv  2024   \n",
              "4       2024-07-25       261.60 2025-07-17 14:55:48.298087   sales_csv  2024   \n",
              "\n",
              "   month  quarter day_of_week price_category order_size  \n",
              "0      6        2      Sunday           High     Medium  \n",
              "1      7        3      Friday           High      Small  \n",
              "2     10        4      Monday           High      Small  \n",
              "3     11        4   Wednesday         Medium     Medium  \n",
              "4      7        3    Thursday            Low      Small  "
            ]
          },
          "metadata": {},
          "output_type": "display_data"
        }
      ],
      "source": [
        "# Create silver layer with transformations\n",
        "silver_df = bronze_df.copy()\n",
        "\n",
        "# Convert transaction_date to datetime\n",
        "silver_df['transaction_date'] = pd.to_datetime(silver_df['transaction_date'])\n",
        "\n",
        "# Calculate total_price (derived column)\n",
        "silver_df['total_price'] = silver_df['quantity'] * silver_df['price']\n",
        "\n",
        "# Add processing metadata\n",
        "silver_df['processing_timestamp'] = datetime.now()\n",
        "silver_df['data_source'] = 'sales_csv'\n",
        "\n",
        "# Extract date components for easier analysis\n",
        "silver_df['year'] = silver_df['transaction_date'].dt.year\n",
        "silver_df['month'] = silver_df['transaction_date'].dt.month\n",
        "silver_df['quarter'] = silver_df['transaction_date'].dt.quarter\n",
        "silver_df['day_of_week'] = silver_df['transaction_date'].dt.day_name()\n",
        "\n",
        "# Add business logic columns\n",
        "silver_df['price_category'] = pd.cut(silver_df['price'],\n",
        "                                    bins=[0, 100, 500, 1000, float('inf')],\n",
        "                                    labels=['Low', 'Medium', 'High', 'Premium'])\n",
        "\n",
        "silver_df['order_size'] = pd.cut(silver_df['quantity'],\n",
        "                                bins=[0, 1, 3, 5, float('inf')],\n",
        "                                labels=['Single', 'Small', 'Medium', 'Large'])\n",
        "\n",
        "print(\"Silver Layer (Cleaned/Enriched) Schema:\")\n",
        "print(silver_df.dtypes)\n",
        "print(f\"\\nDataset shape: {silver_df.shape}\")\n",
        "\n",
        "print(\"\\nSample enriched data:\")\n",
        "display(silver_df.head())\n"
      ]
    },
    {
      "cell_type": "markdown",
      "metadata": {
        "vscode": {
          "languageId": "raw"
        }
      },
      "source": [
        "**Exercise 3.3**: Apply data quality filters and save the silver layer.\n"
      ]
    },
    {
      "cell_type": "code",
      "execution_count": 7,
      "metadata": {},
      "outputs": [
        {
          "name": "stdout",
          "output_type": "stream",
          "text": [
            "Records before filtering: 1000\n",
            "Records after filtering: 1000\n",
            "\n",
            "✅ Silver layer data saved to '../data/silver/sales.parquet'\n"
          ]
        }
      ],
      "source": [
        "# Apply business rules and filters\n",
        "print(f\"Records before filtering: {len(silver_df)}\")\n",
        "\n",
        "# Filter out invalid data\n",
        "silver_filtered = silver_df[\n",
        "    (silver_df['quantity'] > 0) &\n",
        "    (silver_df['price'] > 0) &\n",
        "    (silver_df['total_price'] > 0)\n",
        "]\n",
        "\n",
        "print(f\"Records after filtering: {len(silver_filtered)}\")\n",
        "\n",
        "# Save silver layer\n",
        "os.makedirs('../data/silver', exist_ok=True)\n",
        "silver_filtered.to_parquet('../data/silver/sales.parquet', index=False)\n",
        "print(\"\\n✅ Silver layer data saved to '../data/silver/sales.parquet'\")\n"
      ]
    },
    {
      "cell_type": "markdown",
      "metadata": {
        "vscode": {
          "languageId": "raw"
        }
      },
      "source": [
        "## 4. Gold Layer: Aggregated Data for Analytics\n",
        "\n",
        "The Gold layer is optimized for analytics and reporting. We'll create various aggregations suitable for business intelligence and reporting.\n",
        "\n",
        "**Exercise 4.1**: Create sales summary aggregation by product and city.\n"
      ]
    },
    {
      "cell_type": "code",
      "execution_count": 17,
      "metadata": {},
      "outputs": [
        {
          "name": "stdout",
          "output_type": "stream",
          "text": [
            "Gold Layer - Sales Summary Schema:\n",
            "product_name               object\n",
            "city                       object\n",
            "total_transactions          int64\n",
            "total_revenue             float64\n",
            "avg_order_value           float64\n",
            "total_quantity_sold         int64\n",
            "avg_quantity_per_order    float64\n",
            "dtype: object\n",
            "\n",
            "Dataset shape: (30, 7)\n",
            "\n",
            "Sample aggregated data:\n"
          ]
        },
        {
          "data": {
            "text/html": [
              "<div>\n",
              "<style scoped>\n",
              "    .dataframe tbody tr th:only-of-type {\n",
              "        vertical-align: middle;\n",
              "    }\n",
              "\n",
              "    .dataframe tbody tr th {\n",
              "        vertical-align: top;\n",
              "    }\n",
              "\n",
              "    .dataframe thead th {\n",
              "        text-align: right;\n",
              "    }\n",
              "</style>\n",
              "<table border=\"1\" class=\"dataframe\">\n",
              "  <thead>\n",
              "    <tr style=\"text-align: right;\">\n",
              "      <th></th>\n",
              "      <th>product_name</th>\n",
              "      <th>city</th>\n",
              "      <th>total_transactions</th>\n",
              "      <th>total_revenue</th>\n",
              "      <th>avg_order_value</th>\n",
              "      <th>total_quantity_sold</th>\n",
              "      <th>avg_quantity_per_order</th>\n",
              "    </tr>\n",
              "  </thead>\n",
              "  <tbody>\n",
              "    <tr>\n",
              "      <th>0</th>\n",
              "      <td>Headphones</td>\n",
              "      <td>Chicago</td>\n",
              "      <td>37</td>\n",
              "      <td>48471.14</td>\n",
              "      <td>1310.03</td>\n",
              "      <td>91</td>\n",
              "      <td>2.46</td>\n",
              "    </tr>\n",
              "    <tr>\n",
              "      <th>1</th>\n",
              "      <td>Headphones</td>\n",
              "      <td>Houston</td>\n",
              "      <td>29</td>\n",
              "      <td>30021.19</td>\n",
              "      <td>1035.21</td>\n",
              "      <td>75</td>\n",
              "      <td>2.59</td>\n",
              "    </tr>\n",
              "    <tr>\n",
              "      <th>2</th>\n",
              "      <td>Headphones</td>\n",
              "      <td>Los Angeles</td>\n",
              "      <td>34</td>\n",
              "      <td>39736.61</td>\n",
              "      <td>1168.72</td>\n",
              "      <td>86</td>\n",
              "      <td>2.53</td>\n",
              "    </tr>\n",
              "    <tr>\n",
              "      <th>3</th>\n",
              "      <td>Headphones</td>\n",
              "      <td>New York</td>\n",
              "      <td>33</td>\n",
              "      <td>33105.74</td>\n",
              "      <td>1003.20</td>\n",
              "      <td>71</td>\n",
              "      <td>2.15</td>\n",
              "    </tr>\n",
              "    <tr>\n",
              "      <th>4</th>\n",
              "      <td>Headphones</td>\n",
              "      <td>Phoenix</td>\n",
              "      <td>36</td>\n",
              "      <td>49107.78</td>\n",
              "      <td>1364.10</td>\n",
              "      <td>79</td>\n",
              "      <td>2.19</td>\n",
              "    </tr>\n",
              "  </tbody>\n",
              "</table>\n",
              "</div>"
            ],
            "text/plain": [
              "  product_name         city  total_transactions  total_revenue  \\\n",
              "0   Headphones      Chicago                  37       48471.14   \n",
              "1   Headphones      Houston                  29       30021.19   \n",
              "2   Headphones  Los Angeles                  34       39736.61   \n",
              "3   Headphones     New York                  33       33105.74   \n",
              "4   Headphones      Phoenix                  36       49107.78   \n",
              "\n",
              "   avg_order_value  total_quantity_sold  avg_quantity_per_order  \n",
              "0          1310.03                   91                    2.46  \n",
              "1          1035.21                   75                    2.59  \n",
              "2          1168.72                   86                    2.53  \n",
              "3          1003.20                   71                    2.15  \n",
              "4          1364.10                   79                    2.19  "
            ]
          },
          "metadata": {},
          "output_type": "display_data"
        }
      ],
      "source": [
        "# Load silver data\n",
        "silver_df = pd.read_parquet('../data/silver/sales.parquet')\n",
        "\n",
        "# Create gold layer aggregation: Sales summary by product and city\n",
        "gold_sales_summary = silver_df.groupby(['product_name', 'city']).agg({\n",
        "    'transaction_id': 'count',\n",
        "    'total_price': ['sum', 'mean'],\n",
        "    'quantity': ['sum', 'mean']\n",
        "}).round(2)\n",
        "\n",
        "# Flatten column names\n",
        "gold_sales_summary.columns = [\n",
        "    'total_transactions', 'total_revenue', 'avg_order_value',\n",
        "    'total_quantity_sold', 'avg_quantity_per_order'\n",
        "]\n",
        "\n",
        "gold_sales_summary = gold_sales_summary.reset_index()\n",
        "\n",
        "print(\"Gold Layer - Sales Summary Schema:\")\n",
        "print(gold_sales_summary.dtypes)\n",
        "print(f\"\\nDataset shape: {gold_sales_summary.shape}\")\n",
        "\n",
        "print(\"\\nSample aggregated data:\")\n",
        "display(gold_sales_summary.head())\n"
      ]
    },
    {
      "cell_type": "markdown",
      "metadata": {
        "vscode": {
          "languageId": "raw"
        }
      },
      "source": [
        "**Exercise 4.2**: Perform analytics queries on the Gold table.\n"
      ]
    },
    {
      "cell_type": "code",
      "execution_count": 9,
      "metadata": {},
      "outputs": [
        {
          "name": "stdout",
          "output_type": "stream",
          "text": [
            "=== ANALYTICS INSIGHTS ===\n",
            "\n",
            "1. Top 5 products by total revenue:\n"
          ]
        },
        {
          "data": {
            "text/plain": [
              "product_name\n",
              "Keyboard      222673.37\n",
              "Webcam        215183.29\n",
              "Monitor       211023.32\n",
              "Headphones    200442.46\n",
              "Mouse         196873.03\n",
              "Name: total_revenue, dtype: float64"
            ]
          },
          "metadata": {},
          "output_type": "display_data"
        },
        {
          "name": "stdout",
          "output_type": "stream",
          "text": [
            "\n",
            "2. Top 5 cities by total revenue:\n"
          ]
        },
        {
          "data": {
            "text/plain": [
              "city\n",
              "New York       281638.00\n",
              "Los Angeles    268921.61\n",
              "Houston        239040.89\n",
              "Chicago        229543.11\n",
              "Phoenix        220071.73\n",
              "Name: total_revenue, dtype: float64"
            ]
          },
          "metadata": {},
          "output_type": "display_data"
        },
        {
          "name": "stdout",
          "output_type": "stream",
          "text": [
            "\n",
            "3. Top 10 product-city combinations by revenue:\n"
          ]
        },
        {
          "data": {
            "text/html": [
              "<div>\n",
              "<style scoped>\n",
              "    .dataframe tbody tr th:only-of-type {\n",
              "        vertical-align: middle;\n",
              "    }\n",
              "\n",
              "    .dataframe tbody tr th {\n",
              "        vertical-align: top;\n",
              "    }\n",
              "\n",
              "    .dataframe thead th {\n",
              "        text-align: right;\n",
              "    }\n",
              "</style>\n",
              "<table border=\"1\" class=\"dataframe\">\n",
              "  <thead>\n",
              "    <tr style=\"text-align: right;\">\n",
              "      <th></th>\n",
              "      <th>product_name</th>\n",
              "      <th>city</th>\n",
              "      <th>total_revenue</th>\n",
              "      <th>total_transactions</th>\n",
              "    </tr>\n",
              "  </thead>\n",
              "  <tbody>\n",
              "    <tr>\n",
              "      <th>28</th>\n",
              "      <td>Webcam</td>\n",
              "      <td>New York</td>\n",
              "      <td>56749.55</td>\n",
              "      <td>37</td>\n",
              "    </tr>\n",
              "    <tr>\n",
              "      <th>18</th>\n",
              "      <td>Monitor</td>\n",
              "      <td>New York</td>\n",
              "      <td>54242.34</td>\n",
              "      <td>36</td>\n",
              "    </tr>\n",
              "    <tr>\n",
              "      <th>7</th>\n",
              "      <td>Keyboard</td>\n",
              "      <td>Los Angeles</td>\n",
              "      <td>53440.50</td>\n",
              "      <td>40</td>\n",
              "    </tr>\n",
              "    <tr>\n",
              "      <th>23</th>\n",
              "      <td>Mouse</td>\n",
              "      <td>New York</td>\n",
              "      <td>52080.40</td>\n",
              "      <td>38</td>\n",
              "    </tr>\n",
              "    <tr>\n",
              "      <th>8</th>\n",
              "      <td>Keyboard</td>\n",
              "      <td>New York</td>\n",
              "      <td>51416.59</td>\n",
              "      <td>40</td>\n",
              "    </tr>\n",
              "    <tr>\n",
              "      <th>4</th>\n",
              "      <td>Headphones</td>\n",
              "      <td>Phoenix</td>\n",
              "      <td>49107.78</td>\n",
              "      <td>36</td>\n",
              "    </tr>\n",
              "    <tr>\n",
              "      <th>0</th>\n",
              "      <td>Headphones</td>\n",
              "      <td>Chicago</td>\n",
              "      <td>48471.14</td>\n",
              "      <td>37</td>\n",
              "    </tr>\n",
              "    <tr>\n",
              "      <th>27</th>\n",
              "      <td>Webcam</td>\n",
              "      <td>Los Angeles</td>\n",
              "      <td>46329.47</td>\n",
              "      <td>39</td>\n",
              "    </tr>\n",
              "    <tr>\n",
              "      <th>12</th>\n",
              "      <td>Laptop</td>\n",
              "      <td>Los Angeles</td>\n",
              "      <td>45598.43</td>\n",
              "      <td>35</td>\n",
              "    </tr>\n",
              "    <tr>\n",
              "      <th>6</th>\n",
              "      <td>Keyboard</td>\n",
              "      <td>Houston</td>\n",
              "      <td>45500.22</td>\n",
              "      <td>38</td>\n",
              "    </tr>\n",
              "  </tbody>\n",
              "</table>\n",
              "</div>"
            ],
            "text/plain": [
              "   product_name         city  total_revenue  total_transactions\n",
              "28       Webcam     New York       56749.55                  37\n",
              "18      Monitor     New York       54242.34                  36\n",
              "7      Keyboard  Los Angeles       53440.50                  40\n",
              "23        Mouse     New York       52080.40                  38\n",
              "8      Keyboard     New York       51416.59                  40\n",
              "4    Headphones      Phoenix       49107.78                  36\n",
              "0    Headphones      Chicago       48471.14                  37\n",
              "27       Webcam  Los Angeles       46329.47                  39\n",
              "12       Laptop  Los Angeles       45598.43                  35\n",
              "6      Keyboard      Houston       45500.22                  38"
            ]
          },
          "metadata": {},
          "output_type": "display_data"
        },
        {
          "name": "stdout",
          "output_type": "stream",
          "text": [
            "\n",
            "✅ Gold layer data saved to '../data/gold/sales_summary.parquet'\n"
          ]
        }
      ],
      "source": [
        "# Analytics queries on Gold layer\n",
        "print(\"=== ANALYTICS INSIGHTS ===\")\n",
        "\n",
        "# 1. Top 5 products by revenue\n",
        "print(\"\\n1. Top 5 products by total revenue:\")\n",
        "top_products = gold_sales_summary.groupby('product_name')['total_revenue'].sum().sort_values(ascending=False).head(5)\n",
        "display(top_products)\n",
        "\n",
        "# 2. Top 5 cities by revenue\n",
        "print(\"\\n2. Top 5 cities by total revenue:\")\n",
        "top_cities = gold_sales_summary.groupby('city')['total_revenue'].sum().sort_values(ascending=False).head(5)\n",
        "display(top_cities)\n",
        "\n",
        "# 3. Best performing product-city combinations\n",
        "print(\"\\n3. Top 10 product-city combinations by revenue:\")\n",
        "top_combinations = gold_sales_summary.sort_values('total_revenue', ascending=False).head(10)\n",
        "display(top_combinations[['product_name', 'city', 'total_revenue', 'total_transactions']])\n",
        "\n",
        "# Save gold layer\n",
        "os.makedirs('../data/gold', exist_ok=True)\n",
        "gold_sales_summary.to_parquet('../data/gold/sales_summary.parquet', index=False)\n",
        "print(\"\\n✅ Gold layer data saved to '../data/gold/sales_summary.parquet'\")\n"
      ]
    },
    {
      "cell_type": "markdown",
      "metadata": {
        "vscode": {
          "languageId": "raw"
        }
      },
      "source": [
        "## 5. Summary and Cleanup\n",
        "\n",
        "Let's summarize what we've accomplished in our Medallion Architecture implementation.\n"
      ]
    },
    {
      "cell_type": "code",
      "execution_count": 10,
      "metadata": {},
      "outputs": [
        {
          "name": "stdout",
          "output_type": "stream",
          "text": [
            "============================================================\n",
            "MEDALLION ARCHITECTURE PIPELINE COMPLETED!\n",
            "============================================================\n",
            "✅ Bronze Layer: Raw data ingested from CSV to Parquet\n",
            "✅ Silver Layer: Data cleaned, enriched with calculated columns\n",
            "✅ Gold Layer: Data aggregated for analytics and reporting\n",
            "✅ Analytics: Performed comprehensive data analysis\n",
            "============================================================\n",
            "\n",
            "Files created:\n",
            "  ../data/bronze: ['sales.parquet']\n",
            "  ../data/silver: ['sales.parquet']\n",
            "  ../data/gold: ['sales_summary.parquet']\n",
            "\n",
            "🎉 Congratulations! You've successfully implemented a Medallion Architecture using pandas!\n",
            "Next step: Try the PySpark version for distributed data processing!\n"
          ]
        }
      ],
      "source": [
        "print(\"=\" * 60)\n",
        "print(\"MEDALLION ARCHITECTURE PIPELINE COMPLETED!\")\n",
        "print(\"=\" * 60)\n",
        "print(\"✅ Bronze Layer: Raw data ingested from CSV to Parquet\")\n",
        "print(\"✅ Silver Layer: Data cleaned, enriched with calculated columns\")\n",
        "print(\"✅ Gold Layer: Data aggregated for analytics and reporting\")\n",
        "print(\"✅ Analytics: Performed comprehensive data analysis\")\n",
        "print(\"=\" * 60)\n",
        "\n",
        "# File summary\n",
        "print(\"\\nFiles created:\")\n",
        "data_dirs = ['../data/bronze', '../data/silver', '../data/gold']\n",
        "for dir_path in data_dirs:\n",
        "    if os.path.exists(dir_path):\n",
        "        files = os.listdir(dir_path)\n",
        "        print(f\"  {dir_path}: {files}\")\n",
        "\n",
        "print(\"\\n🎉 Congratulations! You've successfully implemented a Medallion Architecture using pandas!\")\n",
        "print(\"Next step: Try the PySpark version for distributed data processing!\")\n"
      ]
    },
    {
      "cell_type": "markdown",
      "metadata": {
        "vscode": {
          "languageId": "raw"
        }
      },
      "source": [
        "## Next Steps\n",
        "\n",
        "Now that you've mastered the Medallion Architecture with pandas, here are some suggestions for further learning:\n",
        "\n",
        "### Immediate Next Steps:\n",
        "- **Try the PySpark version**: Move to `practice_pyspark_medallion_architecture_guide.ipynb` for distributed processing\n",
        "- **Experiment with different data sources**: JSON, Excel, databases\n",
        "- **Add more complex transformations**: Pivot tables, time series analysis, statistical functions\n",
        "\n",
        "### Advanced Concepts to Explore:\n",
        "- **Data Quality Monitoring**: Implement data validation rules and monitoring\n",
        "- **Incremental Processing**: Handle new data arriving daily/hourly\n",
        "- **Schema Evolution**: Handle changes in data structure over time\n",
        "- **Performance Optimization**: Chunking, parallel processing, memory management\n",
        "\n",
        "### Production Considerations:\n",
        "- **Error Handling**: Robust error handling and logging\n",
        "- **Configuration Management**: External config files for flexibility\n",
        "- **Monitoring and Alerting**: Track pipeline health and performance\n",
        "- **Testing**: Unit tests and data quality tests\n",
        "\n",
        "Happy data engineering! 🚀\n"
      ]
    }
  ],
  "metadata": {
    "kernelspec": {
      "display_name": ".venv",
      "language": "python",
      "name": "python3"
    },
    "language_info": {
      "codemirror_mode": {
        "name": "ipython",
        "version": 3
      },
      "file_extension": ".py",
      "mimetype": "text/x-python",
      "name": "python",
      "nbconvert_exporter": "python",
      "pygments_lexer": "ipython3",
      "version": "3.11.10"
    }
  },
  "nbformat": 4,
  "nbformat_minor": 2
}
