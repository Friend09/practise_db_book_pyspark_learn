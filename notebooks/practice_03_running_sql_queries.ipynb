{
 "cells": [
  {
   "cell_type": "markdown",
   "id": "b5cb55c8",
   "metadata": {},
   "source": [
    "# Running SQL Queries in PySpark\n",
    "\n",
    "In this practice notebook, we'll learn how to run SQL queries in PySpark. Follow the instructions and complete the code cells to practice writing and executing SQL queries.\n"
   ]
  },
  {
   "cell_type": "code",
   "execution_count": null,
   "id": "d675f064",
   "metadata": {},
   "outputs": [],
   "source": [
    "# Import necessary libraries and create SparkSession\n",
    "# Your code here"
   ]
  }
 ],
 "metadata": {
  "language_info": {
   "name": "python"
  }
 },
 "nbformat": 4,
 "nbformat_minor": 5
}
