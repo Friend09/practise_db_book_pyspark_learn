{
 "cells": [
  {
   "cell_type": "markdown",
   "id": "f66beca6",
   "metadata": {},
   "source": [
    "# Working with Data Sources and Formats in PySpark\n",
    "\n",
    "In this practice notebook, we'll explore different data sources and formats in PySpark. Complete the code cells to practice reading and writing data in various formats.\n"
   ]
  },
  {
   "cell_type": "code",
   "execution_count": null,
   "id": "54317f79",
   "metadata": {},
   "outputs": [],
   "source": [
    "# Import necessary libraries and create SparkSession\n",
    "# Your code here"
   ]
  }
 ],
 "metadata": {
  "language_info": {
   "name": "python"
  }
 },
 "nbformat": 4,
 "nbformat_minor": 5
}
