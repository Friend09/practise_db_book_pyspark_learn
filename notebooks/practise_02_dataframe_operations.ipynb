{
 "cells": [
  {
   "cell_type": "markdown",
   "id": "4e9a2ac0",
   "metadata": {
    "vscode": {
     "languageId": "raw"
    }
   },
   "source": [
    "# DataFrame Operations - Practice Notebook\n",
    "\n",
    "This notebook focuses on **Untyped Dataset Operations** (DataFrame operations) as covered in the [Spark SQL Getting Started Guide](https://spark.apache.org/docs/latest/sql-getting-started.html).\n",
    "\n",
    "## Learning Objectives\n",
    "- Master DataFrame transformations and actions\n",
    "- Understand lazy evaluation in Spark\n",
    "- Practice column operations and expressions\n",
    "- Work with different data types and functions\n",
    "\n",
    "## Sections\n",
    "1. **Setup and Data Preparation**\n",
    "2. **Column Selection and Expressions**\n",
    "3. **Filtering and Conditional Operations**\n",
    "4. **Transformations vs Actions**\n",
    "5. **Working with Functions**\n",
    "6. **Practice Exercises**\n",
    "\n",
    "---\n"
   ]
  },
  {
   "cell_type": "code",
   "execution_count": 3,
   "id": "6155e3f4",
   "metadata": {},
   "outputs": [
    {
     "name": "stderr",
     "output_type": "stream",
     "text": [
      "WARNING: Using incubator modules: jdk.incubator.vector\n",
      "Using Spark's default log4j profile: org/apache/spark/log4j2-defaults.properties\n",
      "Setting default log level to \"WARN\".\n",
      "To adjust logging level use sc.setLogLevel(newLevel). For SparkR, use setLogLevel(newLevel).\n",
      "25/09/10 05:42:09 WARN NativeCodeLoader: Unable to load native-hadoop library for your platform... using builtin-java classes where applicable\n",
      "                                                                                \r"
     ]
    },
    {
     "name": "stdout",
     "output_type": "stream",
     "text": [
      "+-------+---+---------+------+----------+\n",
      "|   name|age|job_title|salary| hire_date|\n",
      "+-------+---+---------+------+----------+\n",
      "|  Alice| 25| Engineer| 75000|2020-01-15|\n",
      "|    Bob| 30|  Manager| 85000|2019-03-20|\n",
      "|Charlie| 35| Engineer| 80000|2018-06-10|\n",
      "|  Diana| 28|  Analyst| 65000|2021-02-28|\n",
      "|    Eve| 32|  Manager| 90000|2017-11-05|\n",
      "|  Frank| 29| Engineer| 78000|2020-09-12|\n",
      "+-------+---+---------+------+----------+\n",
      "\n",
      "root\n",
      " |-- name: string (nullable = true)\n",
      " |-- age: long (nullable = true)\n",
      " |-- job_title: string (nullable = true)\n",
      " |-- salary: long (nullable = true)\n",
      " |-- hire_date: string (nullable = true)\n",
      "\n"
     ]
    }
   ],
   "source": [
    "from pyspark.sql import SparkSession\n",
    "from pyspark.sql import functions as F\n",
    "from pyspark.sql.types import *\n",
    "\n",
    "spark = SparkSession.builder.appName(\"DataFrame Operations\").getOrCreate()\n",
    "\n",
    "# Create sample data for practice\n",
    "data = [\n",
    "    (\"Alice\", 25, \"Engineer\", 75000, \"2020-01-15\"),\n",
    "    (\"Bob\", 30, \"Manager\", 85000, \"2019-03-20\"),\n",
    "    (\"Charlie\", 35, \"Engineer\", 80000, \"2018-06-10\"),\n",
    "    (\"Diana\", 28, \"Analyst\", 65000, \"2021-02-28\"),\n",
    "    (\"Eve\", 32, \"Manager\", 90000, \"2017-11-05\"),\n",
    "    (\"Frank\", 29, \"Engineer\", 78000, \"2020-09-12\"),\n",
    "]\n",
    "\n",
    "columns = [\"name\", \"age\", \"job_title\", \"salary\", \"hire_date\"]\n",
    "df = spark.createDataFrame(data, columns)\n",
    "df.show()\n",
    "df.printSchema()"
   ]
  },
  {
   "cell_type": "markdown",
   "id": "5385a817",
   "metadata": {
    "vscode": {
     "languageId": "raw"
    }
   },
   "source": [
    "## 1. Column Selection and Expressions\n",
    "\n",
    "Learn different ways to select and manipulate columns in DataFrames.\n"
   ]
  },
  {
   "cell_type": "code",
   "execution_count": 4,
   "id": "845c207c",
   "metadata": {},
   "outputs": [
    {
     "name": "stdout",
     "output_type": "stream",
     "text": [
      "+-------+\n",
      "|   name|\n",
      "+-------+\n",
      "|  Alice|\n",
      "|    Bob|\n",
      "|Charlie|\n",
      "|  Diana|\n",
      "|    Eve|\n",
      "|  Frank|\n",
      "+-------+\n",
      "\n"
     ]
    }
   ],
   "source": [
    "df.select(\"name\").show()"
   ]
  },
  {
   "cell_type": "code",
   "execution_count": 5,
   "id": "c6320744",
   "metadata": {},
   "outputs": [
    {
     "name": "stdout",
     "output_type": "stream",
     "text": [
      "+-------+---+------+\n",
      "|   name|age|salary|\n",
      "+-------+---+------+\n",
      "|  Alice| 25| 75000|\n",
      "|    Bob| 30| 85000|\n",
      "|Charlie| 35| 80000|\n",
      "|  Diana| 28| 65000|\n",
      "|    Eve| 32| 90000|\n",
      "|  Frank| 29| 78000|\n",
      "+-------+---+------+\n",
      "\n"
     ]
    }
   ],
   "source": [
    "df.select(\"name\", \"age\", \"salary\").show()"
   ]
  },
  {
   "cell_type": "code",
   "execution_count": 6,
   "id": "5249b0b1",
   "metadata": {},
   "outputs": [
    {
     "name": "stdout",
     "output_type": "stream",
     "text": [
      "+-------+---+\n",
      "|   name|age|\n",
      "+-------+---+\n",
      "|  Alice| 25|\n",
      "|    Bob| 30|\n",
      "|Charlie| 35|\n",
      "|  Diana| 28|\n",
      "|    Eve| 32|\n",
      "|  Frank| 29|\n",
      "+-------+---+\n",
      "\n"
     ]
    }
   ],
   "source": [
    "df.select(df.name, df.age).show()"
   ]
  },
  {
   "cell_type": "code",
   "execution_count": 7,
   "id": "6860bc6d",
   "metadata": {},
   "outputs": [
    {
     "name": "stdout",
     "output_type": "stream",
     "text": [
      "+---+\n",
      "|age|\n",
      "+---+\n",
      "| 25|\n",
      "| 30|\n",
      "| 35|\n",
      "| 28|\n",
      "| 32|\n",
      "| 29|\n",
      "+---+\n",
      "\n"
     ]
    }
   ],
   "source": [
    "df.select(df[\"age\"]).show()"
   ]
  },
  {
   "cell_type": "code",
   "execution_count": 8,
   "id": "21b1409c",
   "metadata": {},
   "outputs": [
    {
     "name": "stdout",
     "output_type": "stream",
     "text": [
      "+-------+---+---------+------+----------+\n",
      "|   name|age|job_title|salary| hire_date|\n",
      "+-------+---+---------+------+----------+\n",
      "|  Alice| 25| Engineer| 75000|2020-01-15|\n",
      "|    Bob| 30|  Manager| 85000|2019-03-20|\n",
      "|Charlie| 35| Engineer| 80000|2018-06-10|\n",
      "|  Diana| 28|  Analyst| 65000|2021-02-28|\n",
      "|    Eve| 32|  Manager| 90000|2017-11-05|\n",
      "|  Frank| 29| Engineer| 78000|2020-09-12|\n",
      "+-------+---+---------+------+----------+\n",
      "\n"
     ]
    }
   ],
   "source": [
    "df.select(\"*\").show()"
   ]
  },
  {
   "cell_type": "code",
   "execution_count": 9,
   "id": "2b2e931c",
   "metadata": {},
   "outputs": [
    {
     "name": "stdout",
     "output_type": "stream",
     "text": [
      "+-------+------+------------------+\n",
      "|   name|salary|             bonus|\n",
      "+-------+------+------------------+\n",
      "|  Alice| 75000|               2.5|\n",
      "|    Bob| 85000|               3.0|\n",
      "|Charlie| 80000|               3.5|\n",
      "|  Diana| 65000|2.8000000000000003|\n",
      "|    Eve| 90000|               3.2|\n",
      "|  Frank| 78000|2.9000000000000004|\n",
      "+-------+------+------------------+\n",
      "\n"
     ]
    }
   ],
   "source": [
    "df.select(df[\"name\"], df[\"salary\"], (df[\"age\"] * 0.1).alias(\"bonus\")).show()"
   ]
  },
  {
   "cell_type": "code",
   "execution_count": 10,
   "id": "db7e69d4",
   "metadata": {},
   "outputs": [
    {
     "name": "stdout",
     "output_type": "stream",
     "text": [
      "+-------+----------+\n",
      "|   name|name_upper|\n",
      "+-------+----------+\n",
      "|  Alice|     ALICE|\n",
      "|    Bob|       BOB|\n",
      "|Charlie|   CHARLIE|\n",
      "|  Diana|     DIANA|\n",
      "|    Eve|       EVE|\n",
      "|  Frank|     FRANK|\n",
      "+-------+----------+\n",
      "\n"
     ]
    }
   ],
   "source": [
    "df.select(df[\"name\"], F.upper(df[\"name\"]).alias(\"name_upper\")).show()"
   ]
  },
  {
   "cell_type": "code",
   "execution_count": 11,
   "id": "965b2716",
   "metadata": {},
   "outputs": [
    {
     "name": "stdout",
     "output_type": "stream",
     "text": [
      "+-------+---+--------------+-----------------+\n",
      "|   name|age|age_in_5_years|   monthly_salary|\n",
      "+-------+---+--------------+-----------------+\n",
      "|  Alice| 25|            30|           6250.0|\n",
      "|    Bob| 30|            35|7083.333333333333|\n",
      "|Charlie| 35|            40|6666.666666666667|\n",
      "|  Diana| 28|            33|5416.666666666667|\n",
      "|    Eve| 32|            37|           7500.0|\n",
      "|  Frank| 29|            34|           6500.0|\n",
      "+-------+---+--------------+-----------------+\n",
      "\n"
     ]
    }
   ],
   "source": [
    "df.select(\n",
    "    df[\"name\"],\n",
    "    df[\"age\"],\n",
    "    (df[\"age\"] + 5).alias(\"age_in_5_years\"),\n",
    "    (df[\"salary\"] / 12).alias(\"monthly_salary\"),\n",
    ").show()"
   ]
  },
  {
   "cell_type": "code",
   "execution_count": 12,
   "id": "a288fc6c",
   "metadata": {},
   "outputs": [
    {
     "name": "stdout",
     "output_type": "stream",
     "text": [
      "+-------+---+---------+\n",
      "|   name|age|seniority|\n",
      "+-------+---+---------+\n",
      "|  Alice| 25|   Junior|\n",
      "|    Bob| 30|   Senior|\n",
      "|Charlie| 35|   Senior|\n",
      "|  Diana| 28|   Junior|\n",
      "|    Eve| 32|   Senior|\n",
      "|  Frank| 29|   Junior|\n",
      "+-------+---+---------+\n",
      "\n"
     ]
    }
   ],
   "source": [
    "df.select(\n",
    "    df[\"name\"],\n",
    "    df[\"age\"],\n",
    "    F.when(df[\"age\"] >= 30, \"Senior\").otherwise(\"Junior\").alias(\"seniority\"),\n",
    ").show()"
   ]
  },
  {
   "cell_type": "markdown",
   "id": "2468026c",
   "metadata": {
    "vscode": {
     "languageId": "raw"
    }
   },
   "source": [
    "## 2. Filtering and Conditional Operations\n",
    "\n",
    "Practice different filtering techniques and conditional logic.\n"
   ]
  },
  {
   "cell_type": "code",
   "execution_count": 13,
   "id": "4facdf19",
   "metadata": {},
   "outputs": [
    {
     "name": "stdout",
     "output_type": "stream",
     "text": [
      "+-------+---+---------+------+----------+\n",
      "|   name|age|job_title|salary| hire_date|\n",
      "+-------+---+---------+------+----------+\n",
      "|Charlie| 35| Engineer| 80000|2018-06-10|\n",
      "|    Eve| 32|  Manager| 90000|2017-11-05|\n",
      "+-------+---+---------+------+----------+\n",
      "\n"
     ]
    }
   ],
   "source": [
    "df.filter(df[\"age\"] > 30).show()"
   ]
  },
  {
   "cell_type": "code",
   "execution_count": 14,
   "id": "bdd041f5",
   "metadata": {},
   "outputs": [
    {
     "name": "stdout",
     "output_type": "stream",
     "text": [
      "+-------+---+---------+------+----------+\n",
      "|   name|age|job_title|salary| hire_date|\n",
      "+-------+---+---------+------+----------+\n",
      "|  Alice| 25| Engineer| 75000|2020-01-15|\n",
      "|Charlie| 35| Engineer| 80000|2018-06-10|\n",
      "|  Frank| 29| Engineer| 78000|2020-09-12|\n",
      "+-------+---+---------+------+----------+\n",
      "\n"
     ]
    }
   ],
   "source": [
    "df.filter(df[\"job_title\"] == \"Engineer\").show()"
   ]
  },
  {
   "cell_type": "code",
   "execution_count": 15,
   "id": "95c0ac86",
   "metadata": {},
   "outputs": [
    {
     "name": "stdout",
     "output_type": "stream",
     "text": [
      "+-------+---+---------+------+----------+\n",
      "|   name|age|job_title|salary| hire_date|\n",
      "+-------+---+---------+------+----------+\n",
      "|    Bob| 30|  Manager| 85000|2019-03-20|\n",
      "|Charlie| 35| Engineer| 80000|2018-06-10|\n",
      "|    Eve| 32|  Manager| 90000|2017-11-05|\n",
      "|  Frank| 29| Engineer| 78000|2020-09-12|\n",
      "+-------+---+---------+------+----------+\n",
      "\n"
     ]
    }
   ],
   "source": [
    "df.filter((df[\"age\"] > 28) & (df[\"salary\"] > 75000)).show()"
   ]
  },
  {
   "cell_type": "code",
   "execution_count": 16,
   "id": "7a8b73e3",
   "metadata": {},
   "outputs": [
    {
     "name": "stdout",
     "output_type": "stream",
     "text": [
      "+----+---+---------+------+----------+\n",
      "|name|age|job_title|salary| hire_date|\n",
      "+----+---+---------+------+----------+\n",
      "| Bob| 30|  Manager| 85000|2019-03-20|\n",
      "| Eve| 32|  Manager| 90000|2017-11-05|\n",
      "+----+---+---------+------+----------+\n",
      "\n"
     ]
    }
   ],
   "source": [
    "df.filter((df[\"job_title\"] == \"Manager\") | (df[\"salary\"] > 85000)).show()"
   ]
  },
  {
   "cell_type": "code",
   "execution_count": 17,
   "id": "d1abd592",
   "metadata": {},
   "outputs": [
    {
     "name": "stdout",
     "output_type": "stream",
     "text": [
      "+-----+---+---------+------+----------+\n",
      "| name|age|job_title|salary| hire_date|\n",
      "+-----+---+---------+------+----------+\n",
      "|Diana| 28|  Analyst| 65000|2021-02-28|\n",
      "+-----+---+---------+------+----------+\n",
      "\n"
     ]
    }
   ],
   "source": [
    "df.filter(df[\"name\"].contains(\"Diana\")).show()"
   ]
  },
  {
   "cell_type": "code",
   "execution_count": 18,
   "id": "a0666130",
   "metadata": {},
   "outputs": [
    {
     "name": "stdout",
     "output_type": "stream",
     "text": [
      "+-------+---+---------+------+----------+\n",
      "|   name|age|job_title|salary| hire_date|\n",
      "+-------+---+---------+------+----------+\n",
      "|  Alice| 25| Engineer| 75000|2020-01-15|\n",
      "|    Bob| 30|  Manager| 85000|2019-03-20|\n",
      "|Charlie| 35| Engineer| 80000|2018-06-10|\n",
      "|    Eve| 32|  Manager| 90000|2017-11-05|\n",
      "|  Frank| 29| Engineer| 78000|2020-09-12|\n",
      "+-------+---+---------+------+----------+\n",
      "\n"
     ]
    }
   ],
   "source": [
    "df.filter(df[\"job_title\"].isin([\"Engineer\", \"Manager\"])).show()"
   ]
  },
  {
   "cell_type": "markdown",
   "id": "b62ad625",
   "metadata": {
    "vscode": {
     "languageId": "raw"
    }
   },
   "source": [
    "## 3. Transformations vs Actions\n",
    "\n",
    "Understanding the difference between lazy transformations and actions that trigger execution.\n"
   ]
  },
  {
   "cell_type": "code",
   "execution_count": 19,
   "id": "0a32982c",
   "metadata": {},
   "outputs": [],
   "source": [
    "filtered_df = df.filter(df[\"age\"] > 25)\n",
    "selected_df = filtered_df.select(\"name\", \"age\", \"salary\")\n",
    "sorted_df = selected_df.orderBy(\"salary\", ascending=False)"
   ]
  },
  {
   "cell_type": "code",
   "execution_count": 20,
   "id": "513a1d51",
   "metadata": {},
   "outputs": [
    {
     "data": {
      "text/plain": [
       "pyspark.sql.classic.dataframe.DataFrame"
      ]
     },
     "execution_count": 20,
     "metadata": {},
     "output_type": "execute_result"
    }
   ],
   "source": [
    "type(sorted_df)"
   ]
  },
  {
   "cell_type": "code",
   "execution_count": 21,
   "id": "9a413b6d",
   "metadata": {},
   "outputs": [
    {
     "name": "stdout",
     "output_type": "stream",
     "text": [
      "+-------+---+------+\n",
      "|   name|age|salary|\n",
      "+-------+---+------+\n",
      "|    Eve| 32| 90000|\n",
      "|    Bob| 30| 85000|\n",
      "|Charlie| 35| 80000|\n",
      "|  Frank| 29| 78000|\n",
      "|  Diana| 28| 65000|\n",
      "+-------+---+------+\n",
      "\n"
     ]
    }
   ],
   "source": [
    "sorted_df.show()"
   ]
  },
  {
   "cell_type": "code",
   "execution_count": 22,
   "id": "aa65773e",
   "metadata": {},
   "outputs": [
    {
     "data": {
      "text/plain": [
       "5"
      ]
     },
     "execution_count": 22,
     "metadata": {},
     "output_type": "execute_result"
    }
   ],
   "source": [
    "sorted_df.count()"
   ]
  },
  {
   "cell_type": "code",
   "execution_count": 23,
   "id": "3314837f",
   "metadata": {},
   "outputs": [],
   "source": [
    "collected_data = sorted_df.collect()"
   ]
  },
  {
   "cell_type": "code",
   "execution_count": 24,
   "id": "acb167a0",
   "metadata": {},
   "outputs": [
    {
     "data": {
      "text/plain": [
       "list"
      ]
     },
     "execution_count": 24,
     "metadata": {},
     "output_type": "execute_result"
    }
   ],
   "source": [
    "type(collected_data)"
   ]
  },
  {
   "cell_type": "code",
   "execution_count": 25,
   "id": "47ec80ea",
   "metadata": {},
   "outputs": [
    {
     "data": {
      "text/plain": [
       "Row(name='Eve', age=32, salary=90000)"
      ]
     },
     "execution_count": 25,
     "metadata": {},
     "output_type": "execute_result"
    }
   ],
   "source": [
    "collected_data[0]"
   ]
  },
  {
   "cell_type": "code",
   "execution_count": 26,
   "id": "8e1975b0",
   "metadata": {},
   "outputs": [
    {
     "data": {
      "text/plain": [
       "Row(name='Eve', age=32, salary=90000)"
      ]
     },
     "execution_count": 26,
     "metadata": {},
     "output_type": "execute_result"
    }
   ],
   "source": [
    "sorted_df.first()"
   ]
  },
  {
   "cell_type": "code",
   "execution_count": 27,
   "id": "240b64ce",
   "metadata": {},
   "outputs": [
    {
     "data": {
      "text/plain": [
       "[Row(name='Eve', age=32, salary=90000), Row(name='Bob', age=30, salary=85000)]"
      ]
     },
     "execution_count": 27,
     "metadata": {},
     "output_type": "execute_result"
    }
   ],
   "source": [
    "sorted_df.take(2)"
   ]
  },
  {
   "cell_type": "code",
   "execution_count": 28,
   "id": "6c2eb2a3",
   "metadata": {},
   "outputs": [
    {
     "name": "stdout",
     "output_type": "stream",
     "text": [
      "=== TRANSFORMATIONS (Lazy) ===\n",
      "These operations don't execute until an action is called\n",
      "Transformations created, but not executed yet...\n",
      "Type of result: <class 'pyspark.sql.classic.dataframe.DataFrame'>\n",
      "\n",
      "=== ACTIONS (Eager) ===\n",
      "These operations trigger execution of all transformations\n",
      "\n",
      "1. show() - Display data:\n",
      "+-------+---+------+\n",
      "|   name|age|salary|\n",
      "+-------+---+------+\n",
      "|    Eve| 32| 90000|\n",
      "|    Bob| 30| 85000|\n",
      "|Charlie| 35| 80000|\n",
      "|  Frank| 29| 78000|\n",
      "|  Diana| 28| 65000|\n",
      "+-------+---+------+\n",
      "\n",
      "\n",
      "2. count() - Count rows:\n",
      "Number of rows: 5\n",
      "\n",
      "3. collect() - Collect all data to driver:\n",
      "Collected data type: <class 'list'>\n",
      "First row: Row(name='Eve', age=32, salary=90000)\n",
      "\n",
      "4. first() - Get first row:\n",
      "First row: Row(name='Eve', age=32, salary=90000)\n",
      "\n",
      "5. take(n) - Take first n rows:\n",
      "First two rows: [Row(name='Eve', age=32, salary=90000), Row(name='Bob', age=30, salary=85000)]\n"
     ]
    }
   ],
   "source": [
    "# Transformations (lazy - don't execute immediately)\n",
    "print(\"=== TRANSFORMATIONS (Lazy) ===\")\n",
    "print(\"These operations don't execute until an action is called\")\n",
    "\n",
    "# Create a series of transformations\n",
    "filtered_df = df.filter(df[\"age\"] > 25)\n",
    "selected_df = filtered_df.select(\"name\", \"age\", \"salary\")\n",
    "sorted_df = selected_df.orderBy(\"salary\", ascending=False)\n",
    "\n",
    "print(\"Transformations created, but not executed yet...\")\n",
    "print(\"Type of result:\", type(sorted_df))\n",
    "\n",
    "# Actions (eager - trigger execution)\n",
    "print(\"\\n=== ACTIONS (Eager) ===\")\n",
    "print(\"These operations trigger execution of all transformations\")\n",
    "\n",
    "print(\"\\n1. show() - Display data:\")\n",
    "sorted_df.show()\n",
    "\n",
    "print(\"\\n2. count() - Count rows:\")\n",
    "print(f\"Number of rows: {sorted_df.count()}\")\n",
    "\n",
    "print(\"\\n3. collect() - Collect all data to driver:\")\n",
    "collected_data = sorted_df.collect()\n",
    "print(f\"Collected data type: {type(collected_data)}\")\n",
    "print(f\"First row: {collected_data[0]}\")\n",
    "\n",
    "print(\"\\n4. first() - Get first row:\")\n",
    "first_row = sorted_df.first()\n",
    "print(f\"First row: {first_row}\")\n",
    "\n",
    "print(\"\\n5. take(n) - Take first n rows:\")\n",
    "first_two = sorted_df.take(2)\n",
    "print(f\"First two rows: {first_two}\")"
   ]
  },
  {
   "cell_type": "markdown",
   "id": "77544d47",
   "metadata": {
    "vscode": {
     "languageId": "raw"
    }
   },
   "source": [
    "## 4. Working with Built-in Functions\n",
    "\n",
    "Explore Spark's built-in functions for data manipulation.\n"
   ]
  },
  {
   "cell_type": "code",
   "execution_count": 29,
   "id": "d935082d",
   "metadata": {},
   "outputs": [
    {
     "name": "stdout",
     "output_type": "stream",
     "text": [
      "+-------+---+---------+------+----------+\n",
      "|   name|age|job_title|salary| hire_date|\n",
      "+-------+---+---------+------+----------+\n",
      "|  Alice| 25| Engineer| 75000|2020-01-15|\n",
      "|    Bob| 30|  Manager| 85000|2019-03-20|\n",
      "|Charlie| 35| Engineer| 80000|2018-06-10|\n",
      "|  Diana| 28|  Analyst| 65000|2021-02-28|\n",
      "|    Eve| 32|  Manager| 90000|2017-11-05|\n",
      "|  Frank| 29| Engineer| 78000|2020-09-12|\n",
      "+-------+---+---------+------+----------+\n",
      "\n"
     ]
    }
   ],
   "source": [
    "df.show()"
   ]
  },
  {
   "cell_type": "code",
   "execution_count": 30,
   "id": "b5e27f18",
   "metadata": {},
   "outputs": [
    {
     "name": "stdout",
     "output_type": "stream",
     "text": [
      "=== STRING FUNCTIONS ===\n",
      "+-------+----------+----------+-----------+-------------+\n",
      "|   name|name_upper|name_lower|name_length|first_3_chars|\n",
      "+-------+----------+----------+-----------+-------------+\n",
      "|  Alice|     ALICE|     alice|          5|          Ali|\n",
      "|    Bob|       BOB|       bob|          3|          Bob|\n",
      "|Charlie|   CHARLIE|   charlie|          7|          Cha|\n",
      "|  Diana|     DIANA|     diana|          5|          Dia|\n",
      "|    Eve|       EVE|       eve|          3|          Eve|\n",
      "|  Frank|     FRANK|     frank|          5|          Fra|\n",
      "+-------+----------+----------+-----------+-------------+\n",
      "\n"
     ]
    }
   ],
   "source": [
    "print(\"=== STRING FUNCTIONS ===\")\n",
    "df.select(\n",
    "    df[\"name\"],\n",
    "    F.upper(df[\"name\"]).alias(\"name_upper\"),\n",
    "    F.lower(df[\"name\"]).alias(\"name_lower\"),\n",
    "    F.length(df[\"name\"]).alias(\"name_length\"),\n",
    "    F.substring(df[\"name\"], 1, 3).alias(\"first_3_chars\"),\n",
    ").show()"
   ]
  },
  {
   "cell_type": "code",
   "execution_count": 31,
   "id": "9b848ef6",
   "metadata": {},
   "outputs": [
    {
     "name": "stdout",
     "output_type": "stream",
     "text": [
      "+-------+------+--------------+-----------------+----------------+\n",
      "|   name|salary|monthly_salary|         sqrt_age|age_diff_from_30|\n",
      "+-------+------+--------------+-----------------+----------------+\n",
      "|  Alice| 75000|        6250.0|              5.0|               5|\n",
      "|    Bob| 85000|       7083.33|5.477225575051661|               0|\n",
      "|Charlie| 80000|       6666.67|5.916079783099616|               5|\n",
      "|  Diana| 65000|       5416.67|5.291502622129181|               2|\n",
      "|    Eve| 90000|        7500.0|5.656854249492381|               2|\n",
      "|  Frank| 78000|        6500.0|5.385164807134504|               1|\n",
      "+-------+------+--------------+-----------------+----------------+\n",
      "\n"
     ]
    }
   ],
   "source": [
    "df.select(\n",
    "    df[\"name\"],\n",
    "    df[\"salary\"],\n",
    "    F.round(df[\"salary\"] / 12, 2).alias(\"monthly_salary\"),\n",
    "    F.sqrt(df[\"age\"]).alias(\"sqrt_age\"),\n",
    "    F.abs(df[\"age\"] - 30).alias(\"age_diff_from_30\"),\n",
    ").show()"
   ]
  },
  {
   "cell_type": "code",
   "execution_count": 32,
   "id": "089083ee",
   "metadata": {},
   "outputs": [
    {
     "name": "stdout",
     "output_type": "stream",
     "text": [
      "+-------+----------+---------+----------+---------------+\n",
      "|   name| hire_date|hire_year|hire_month|days_since_hire|\n",
      "+-------+----------+---------+----------+---------------+\n",
      "|  Alice|2020-01-15|     2020|         1|           2065|\n",
      "|    Bob|2019-03-20|     2019|         3|           2366|\n",
      "|Charlie|2018-06-10|     2018|         6|           2649|\n",
      "|  Diana|2021-02-28|     2021|         2|           1655|\n",
      "|    Eve|2017-11-05|     2017|        11|           2866|\n",
      "|  Frank|2020-09-12|     2020|         9|           1824|\n",
      "+-------+----------+---------+----------+---------------+\n",
      "\n"
     ]
    }
   ],
   "source": [
    "df_with_date = df.withColumn(\"hire_date\", F.to_date(df[\"hire_date\"], \"yyyy-MM-dd\"))\n",
    "\n",
    "df_with_date.select(\n",
    "    df[\"name\"],\n",
    "    df_with_date[\"hire_date\"],\n",
    "    F.year(df_with_date[\"hire_date\"]).alias(\"hire_year\"),\n",
    "    F.month(df_with_date[\"hire_date\"]).alias(\"hire_month\"),\n",
    "    F.datediff(F.current_date(), df_with_date[\"hire_date\"]).alias(\"days_since_hire\"),\n",
    ").show()"
   ]
  },
  {
   "cell_type": "markdown",
   "id": "f1fa5f93",
   "metadata": {
    "vscode": {
     "languageId": "raw"
    }
   },
   "source": [
    "## 5. Advanced DataFrame Operations\n",
    "\n",
    "Explore more advanced operations like grouping, aggregations, and window functions.\n"
   ]
  },
  {
   "cell_type": "code",
   "execution_count": 37,
   "id": "ca4bc70b",
   "metadata": {},
   "outputs": [
    {
     "name": "stdout",
     "output_type": "stream",
     "text": [
      "=== GROUPING AND AGGREGATION ===\n",
      "1. Group by job title and calculate statistics:\n",
      "+---------+-----+-----------------+-------+-------+\n",
      "|job_title|count|       avg_salary|min_age|max_age|\n",
      "+---------+-----+-----------------+-------+-------+\n",
      "| Engineer|    3|77666.66666666667|     25|     35|\n",
      "|  Manager|    2|          87500.0|     30|     32|\n",
      "|  Analyst|    1|          65000.0|     28|     28|\n",
      "+---------+-----+-----------------+-------+-------+\n",
      "\n"
     ]
    }
   ],
   "source": [
    "print(\"=== GROUPING AND AGGREGATION ===\")\n",
    "print(\"1. Group by job title and calculate statistics:\")\n",
    "df.groupBy(\"job_title\").agg(\n",
    "    F.count(\"*\").alias(\"count\"),\n",
    "    F.avg(\"salary\").alias(\"avg_salary\"),\n",
    "    F.min(\"age\").alias(\"min_age\"),\n",
    "    F.max(\"age\").alias(\"max_age\"),\n",
    ").show()"
   ]
  },
  {
   "cell_type": "code",
   "execution_count": 43,
   "id": "c46247d8",
   "metadata": {},
   "outputs": [
    {
     "name": "stdout",
     "output_type": "stream",
     "text": [
      "+-----------+-----+-----------------+\n",
      "|  age_group|count|       avg_salary|\n",
      "+-----------+-----+-----------------+\n",
      "|      Young|    3|72666.66666666667|\n",
      "|Experienced|    3|          85000.0|\n",
      "+-----------+-----+-----------------+\n",
      "\n"
     ]
    }
   ],
   "source": [
    "df.withColumn(\n",
    "    \"age_group\", F.when(df[\"age\"] < 30, \"Young\").otherwise(\"Experienced\")\n",
    ").groupBy(\"age_group\").agg(\n",
    "    F.count(\"*\").alias(\"count\"), F.avg(\"salary\").alias(\"avg_salary\")\n",
    ").show()"
   ]
  },
  {
   "cell_type": "code",
   "execution_count": 44,
   "id": "5d07a5bc",
   "metadata": {},
   "outputs": [
    {
     "name": "stdout",
     "output_type": "stream",
     "text": [
      "+-------+---+---------+------+----------+\n",
      "|   name|age|job_title|salary| hire_date|\n",
      "+-------+---+---------+------+----------+\n",
      "|  Alice| 25| Engineer| 75000|2020-01-15|\n",
      "|    Bob| 30|  Manager| 85000|2019-03-20|\n",
      "|Charlie| 35| Engineer| 80000|2018-06-10|\n",
      "|  Diana| 28|  Analyst| 65000|2021-02-28|\n",
      "|    Eve| 32|  Manager| 90000|2017-11-05|\n",
      "|  Frank| 29| Engineer| 78000|2020-09-12|\n",
      "+-------+---+---------+------+----------+\n",
      "\n"
     ]
    }
   ],
   "source": [
    "df.show()"
   ]
  },
  {
   "cell_type": "code",
   "execution_count": 49,
   "id": "b962f0bf",
   "metadata": {},
   "outputs": [
    {
     "name": "stdout",
     "output_type": "stream",
     "text": [
      "+-------+---------+------+-----------+------------+-----------+\n",
      "|   name|job_title|salary|rank_in_job|overall_rank|prev_salary|\n",
      "+-------+---------+------+-----------+------------+-----------+\n",
      "|  Diana|  Analyst| 65000|          1|           1|       NULL|\n",
      "|  Alice| Engineer| 75000|          1|           2|      65000|\n",
      "|  Frank| Engineer| 78000|          2|           3|      75000|\n",
      "|Charlie| Engineer| 80000|          3|           4|      78000|\n",
      "|    Bob|  Manager| 85000|          1|           5|      80000|\n",
      "|    Eve|  Manager| 90000|          2|           6|      85000|\n",
      "+-------+---------+------+-----------+------------+-----------+\n",
      "\n"
     ]
    },
    {
     "name": "stderr",
     "output_type": "stream",
     "text": [
      "25/09/10 06:00:46 WARN WindowExec: No Partition Defined for Window operation! Moving all data to a single partition, this can cause serious performance degradation.\n",
      "25/09/10 06:00:46 WARN WindowExec: No Partition Defined for Window operation! Moving all data to a single partition, this can cause serious performance degradation.\n",
      "25/09/10 06:00:46 WARN WindowExec: No Partition Defined for Window operation! Moving all data to a single partition, this can cause serious performance degradation.\n",
      "25/09/10 06:00:46 WARN WindowExec: No Partition Defined for Window operation! Moving all data to a single partition, this can cause serious performance degradation.\n"
     ]
    }
   ],
   "source": [
    "from pyspark.sql.window import Window\n",
    "\n",
    "window_spec = Window.partitionBy(\"job_title\").orderBy(\"salary\")\n",
    "window_all = Window.orderBy(\"salary\")\n",
    "\n",
    "df.select(\n",
    "    df[\"name\"],\n",
    "    df[\"job_title\"],\n",
    "    df[\"salary\"],\n",
    "    F.row_number().over(window_spec).alias(\"rank_in_job\"),\n",
    "    F.rank().over(window_all).alias(\"overall_rank\"),\n",
    "    F.lag(df[\"salary\"], 1).over(window_all).alias(\"prev_salary\"),\n",
    ").show()"
   ]
  },
  {
   "cell_type": "markdown",
   "id": "eb22af6b",
   "metadata": {
    "vscode": {
     "languageId": "raw"
    }
   },
   "source": [
    "## 6. Practice Exercises\n",
    "\n",
    "Complete these exercises to test your understanding of DataFrame operations.\n"
   ]
  },
  {
   "cell_type": "code",
   "execution_count": null,
   "id": "99ba94f1",
   "metadata": {},
   "outputs": [],
   "source": []
  }
 ],
 "metadata": {
  "kernelspec": {
   "display_name": "practise_db_book_pyspark_learn (3.11.10)",
   "language": "python",
   "name": "python3"
  },
  "language_info": {
   "codemirror_mode": {
    "name": "ipython",
    "version": 3
   },
   "file_extension": ".py",
   "mimetype": "text/x-python",
   "name": "python",
   "nbconvert_exporter": "python",
   "pygments_lexer": "ipython3",
   "version": "3.11.10"
  }
 },
 "nbformat": 4,
 "nbformat_minor": 5
}
