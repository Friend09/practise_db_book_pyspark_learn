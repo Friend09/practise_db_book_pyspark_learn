{
 "cells": [
  {
   "cell_type": "markdown",
   "id": "c806f33a",
   "metadata": {
    "vscode": {
     "languageId": "raw"
    }
   },
   "source": [
    "# Data Sources and File Formats - Practice Notebook\n",
    "\n",
    "This notebook covers reading and writing data in various formats, exploring Spark's built-in data sources.\n",
    "\n",
    "## Learning Objectives\n",
    "- Read and write CSV, JSON, Parquet files\n",
    "- Understand file format options and configurations\n",
    "- Work with different data sources\n",
    "- Handle schema evolution and data quality issues\n",
    "- Optimize file formats for performance\n",
    "\n",
    "## Sections\n",
    "1. **CSV Files - Reading and Writing**\n",
    "2. **JSON Files - Handling Semi-structured Data**\n",
    "3. **Parquet Files - Columnar Storage**\n",
    "4. **File Format Comparison**\n",
    "5. **Advanced Data Source Options**\n",
    "6. **Practice Exercises**\n",
    "\n",
    "---\n"
   ]
  },
  {
   "cell_type": "code",
   "execution_count": null,
   "id": "b37047b3",
   "metadata": {},
   "outputs": [],
   "source": []
  },
  {
   "cell_type": "markdown",
   "id": "eb343311",
   "metadata": {
    "vscode": {
     "languageId": "raw"
    }
   },
   "source": [
    "## 1. CSV Files - Reading and Writing\n",
    "\n",
    "CSV is one of the most common data formats. Let's explore various CSV options.\n",
    "\n",
    "> **Important Note about Complex Types:**  \n",
    "> CSV is a flat file format and does **not** natively support complex types such as arrays, structs, or maps.  \n",
    "> If your DataFrame contains such columns (e.g., the 'skills' array in our sample data), you must convert them to strings before writing to CSV.  \n",
    "> When reading the CSV back, you can split the string to recover the array if needed.  \n",
    "> For complex nested data, consider using JSON or Parquet formats instead.\n"
   ]
  },
  {
   "cell_type": "code",
   "execution_count": null,
   "id": "7159f935",
   "metadata": {},
   "outputs": [],
   "source": []
  },
  {
   "cell_type": "markdown",
   "id": "c3e0162c",
   "metadata": {
    "vscode": {
     "languageId": "raw"
    }
   },
   "source": [
    "## 2. JSON Files - Handling Semi-structured Data\n",
    "\n",
    "JSON is perfect for semi-structured data with nested fields.\n"
   ]
  },
  {
   "cell_type": "code",
   "execution_count": null,
   "id": "fb449283",
   "metadata": {},
   "outputs": [],
   "source": []
  },
  {
   "cell_type": "markdown",
   "id": "7dfeb4ff",
   "metadata": {
    "vscode": {
     "languageId": "raw"
    }
   },
   "source": [
    "## 3. Parquet Files - Columnar Storage\n",
    "\n",
    "Parquet is the preferred format for big data analytics due to its efficiency.\n"
   ]
  },
  {
   "cell_type": "code",
   "execution_count": null,
   "id": "9c80118b",
   "metadata": {},
   "outputs": [],
   "source": []
  },
  {
   "cell_type": "markdown",
   "id": "db4c01b5",
   "metadata": {
    "vscode": {
     "languageId": "raw"
    }
   },
   "source": [
    "## 4. Practice Exercises\n",
    "\n",
    "Complete these exercises to practice working with different data formats.\n"
   ]
  },
  {
   "cell_type": "code",
   "execution_count": null,
   "id": "4d87c155",
   "metadata": {},
   "outputs": [],
   "source": []
  }
 ],
 "metadata": {
  "kernelspec": {
   "display_name": ".venv",
   "language": "python",
   "name": "python3"
  },
  "language_info": {
   "codemirror_mode": {
    "name": "ipython",
    "version": 3
   },
   "file_extension": ".py",
   "mimetype": "text/x-python",
   "name": "python",
   "nbconvert_exporter": "python",
   "pygments_lexer": "ipython3",
   "version": "3.11.10"
  }
 },
 "nbformat": 4,
 "nbformat_minor": 5
}
